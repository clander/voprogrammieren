{
 "cells": [
  {
   "cell_type": "code",
   "execution_count": 2,
   "metadata": {},
   "outputs": [
    {
     "name": "stdout",
     "output_type": "stream",
     "text": [
      "************ BMI-Berechnung ************\n",
      "Der berechnete BMI beträgt 22.16 --> Normalgewicht\n",
      "************ BMI-Berechnung ************\n",
      "Bitte nur Zahlen eingeben!\n",
      "Bitte nur Zahlen eingeben!\n",
      "Bitte nur Zahlen eingeben!\n",
      "Bitte nur Zahlen eingeben!\n",
      "Bitte nur Zahlen eingeben!\n"
     ]
    },
    {
     "ename": "KeyboardInterrupt",
     "evalue": "Interrupted by user",
     "output_type": "error",
     "traceback": [
      "\u001b[0;31m---------------------------------------------------------------------------\u001b[0m",
      "\u001b[0;31mKeyboardInterrupt\u001b[0m                         Traceback (most recent call last)",
      "Cell \u001b[0;32mIn[2], line 7\u001b[0m\n\u001b[1;32m      5\u001b[0m \u001b[39mwhile\u001b[39;00m \u001b[39mnot\u001b[39;00m eingabeErfolgreich:\n\u001b[1;32m      6\u001b[0m     eingabeKilogramm \u001b[39m=\u001b[39m \u001b[39minput\u001b[39m(\u001b[39m\"\u001b[39m\u001b[39mBitte geben Sie ihr Gewicht in Kilogramm an (Komma als Punkt): \u001b[39m\u001b[39m\"\u001b[39m) \u001b[39m#Input-Funktion mit Parameter und String-Rückgabe\u001b[39;00m\n\u001b[0;32m----> 7\u001b[0m     eingabeMeter \u001b[39m=\u001b[39m \u001b[39minput\u001b[39;49m(\u001b[39m\"\u001b[39;49m\u001b[39mBitte geben Sie ihre Größe in Meter an (Komma als Punkt angeben): \u001b[39;49m\u001b[39m\"\u001b[39;49m)\n\u001b[1;32m      8\u001b[0m     \u001b[39mtry\u001b[39;00m:\n\u001b[1;32m      9\u001b[0m         kilogramm \u001b[39m=\u001b[39m \u001b[39mfloat\u001b[39m(eingabeKilogramm)\n",
      "File \u001b[0;32m~/Library/Python/3.9/lib/python/site-packages/ipykernel/kernelbase.py:1191\u001b[0m, in \u001b[0;36mKernel.raw_input\u001b[0;34m(self, prompt)\u001b[0m\n\u001b[1;32m   1189\u001b[0m     msg \u001b[39m=\u001b[39m \u001b[39m\"\u001b[39m\u001b[39mraw_input was called, but this frontend does not support input requests.\u001b[39m\u001b[39m\"\u001b[39m\n\u001b[1;32m   1190\u001b[0m     \u001b[39mraise\u001b[39;00m StdinNotImplementedError(msg)\n\u001b[0;32m-> 1191\u001b[0m \u001b[39mreturn\u001b[39;00m \u001b[39mself\u001b[39;49m\u001b[39m.\u001b[39;49m_input_request(\n\u001b[1;32m   1192\u001b[0m     \u001b[39mstr\u001b[39;49m(prompt),\n\u001b[1;32m   1193\u001b[0m     \u001b[39mself\u001b[39;49m\u001b[39m.\u001b[39;49m_parent_ident[\u001b[39m\"\u001b[39;49m\u001b[39mshell\u001b[39;49m\u001b[39m\"\u001b[39;49m],\n\u001b[1;32m   1194\u001b[0m     \u001b[39mself\u001b[39;49m\u001b[39m.\u001b[39;49mget_parent(\u001b[39m\"\u001b[39;49m\u001b[39mshell\u001b[39;49m\u001b[39m\"\u001b[39;49m),\n\u001b[1;32m   1195\u001b[0m     password\u001b[39m=\u001b[39;49m\u001b[39mFalse\u001b[39;49;00m,\n\u001b[1;32m   1196\u001b[0m )\n",
      "File \u001b[0;32m~/Library/Python/3.9/lib/python/site-packages/ipykernel/kernelbase.py:1234\u001b[0m, in \u001b[0;36mKernel._input_request\u001b[0;34m(self, prompt, ident, parent, password)\u001b[0m\n\u001b[1;32m   1231\u001b[0m \u001b[39mexcept\u001b[39;00m \u001b[39mKeyboardInterrupt\u001b[39;00m:\n\u001b[1;32m   1232\u001b[0m     \u001b[39m# re-raise KeyboardInterrupt, to truncate traceback\u001b[39;00m\n\u001b[1;32m   1233\u001b[0m     msg \u001b[39m=\u001b[39m \u001b[39m\"\u001b[39m\u001b[39mInterrupted by user\u001b[39m\u001b[39m\"\u001b[39m\n\u001b[0;32m-> 1234\u001b[0m     \u001b[39mraise\u001b[39;00m \u001b[39mKeyboardInterrupt\u001b[39;00m(msg) \u001b[39mfrom\u001b[39;00m \u001b[39mNone\u001b[39;00m\n\u001b[1;32m   1235\u001b[0m \u001b[39mexcept\u001b[39;00m \u001b[39mException\u001b[39;00m:\n\u001b[1;32m   1236\u001b[0m     \u001b[39mself\u001b[39m\u001b[39m.\u001b[39mlog\u001b[39m.\u001b[39mwarning(\u001b[39m\"\u001b[39m\u001b[39mInvalid Message:\u001b[39m\u001b[39m\"\u001b[39m, exc_info\u001b[39m=\u001b[39m\u001b[39mTrue\u001b[39;00m)\n",
      "\u001b[0;31mKeyboardInterrupt\u001b[0m: Interrupted by user"
     ]
    }
   ],
   "source": [
    "wiederholung = True\n",
    "while wiederholung == True:\n",
    "    print(\"************ BMI-Berechnung ************\")\n",
    "    eingabeErfolgreich = False\n",
    "    while not eingabeErfolgreich:\n",
    "        eingabeKilogramm = input(\"Bitte geben Sie ihr Gewicht in Kilogramm an (Komma als Punkt): \") #Input-Funktion mit Parameter und String-Rückgabe\n",
    "        eingabeMeter = input(\"Bitte geben Sie ihre Größe in Meter an (Komma als Punkt angeben): \")\n",
    "        try:\n",
    "            kilogramm = float(eingabeKilogramm)\n",
    "            meter = float(eingabeMeter)\n",
    "            if kilogramm >= 0 and meter >= 0:\n",
    "                eingabeErfolgreich = True\n",
    "            else:\n",
    "                print(\"Bitte nur positive Zahlen eingeben!\")\n",
    "                eingabeErfolgreich = False\n",
    "        except:\n",
    "            print(\"Bitte nur Zahlen eingeben!\")\n",
    "            eingabeErfolgreich = False\n",
    "    bmi = kilogramm / meter**2\n",
    "    bmiGerundet = round(bmi,2) \n",
    "    interpretation = \"\"\n",
    "    if bmi < 18.5: \n",
    "        interpretation = \"Untergewicht\" \n",
    "    elif bmi < 25: \n",
    "        interpretation = \"Normalgewicht\" \n",
    "    elif bmi < 30: \n",
    "        interpretation = \"Übergewicht\" \n",
    "    else: \n",
    "        interpretation = \"Adipositas\"\n",
    "    ausgabe = \"Der berechnete BMI beträgt \" + str(bmiGerundet) + \" --> \" + interpretation\n",
    "    print(ausgabe)\n",
    "    eingabeWeitereBerechnung = input(\"Möchten Sie das Programm beenden? J oder j für Ja! \")\n",
    "    if eingabeWeitereBerechnung.capitalize() == \"J\":\n",
    "        wiederholung = False\n",
    "\n",
    "print(\"Vielen Dank, dass Sie unser Programm verwendet haben. Auf wiedersehen!\")"
   ]
  },
  {
   "cell_type": "code",
   "execution_count": null,
   "metadata": {},
   "outputs": [],
   "source": []
  }
 ],
 "metadata": {
  "kernelspec": {
   "display_name": "Python 3",
   "language": "python",
   "name": "python3"
  },
  "language_info": {
   "codemirror_mode": {
    "name": "ipython",
    "version": 3
   },
   "file_extension": ".py",
   "mimetype": "text/x-python",
   "name": "python",
   "nbconvert_exporter": "python",
   "pygments_lexer": "ipython3",
   "version": "3.9.6"
  },
  "orig_nbformat": 4
 },
 "nbformat": 4,
 "nbformat_minor": 2
}
