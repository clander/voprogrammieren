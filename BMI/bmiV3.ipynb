{
 "cells": [
  {
   "cell_type": "code",
   "execution_count": null,
   "metadata": {},
   "outputs": [],
   "source": [
    "wiederholung = True\n",
    "while wiederholung == True:\n",
    "    print(\"************ BMI-Berechnung ************\")\n",
    "    eingabeErfolgreich = False\n",
    "    while not eingabeErfolgreich:\n",
    "        eingabeKilogramm = input(\"Bitte geben Sie ihr Gewicht in Kilogramm an (Komma als Punkt): \") #Input-Funktion mit Parameter und String-Rückgabe\n",
    "        eingabeMeter = input(\"Bitte geben Sie ihre Größe in Meter an (Komma als Punkt angeben): \")\n",
    "        try:\n",
    "            kilogramm = float(eingabeKilogramm)\n",
    "            meter = float(eingabeMeter)\n",
    "            if kilogramm >= 0 and meter >= 0:\n",
    "                eingabeErfolgreich = True\n",
    "            else:\n",
    "                print(\"Bitte nur positive Zahlen eingeben!\")\n",
    "                eingabeErfolgreich = False\n",
    "        except:\n",
    "            print(\"Bitte nur Zahlen eingeben!\")\n",
    "            eingabeErfolgreich = False\n",
    "    bmi = kilogramm / meter**2\n",
    "    bmiGerundet = round(bmi,2) \n",
    "    interpretation = \"\"\n",
    "    if bmi < 18.5: \n",
    "        interpretation = \"Untergewicht\" \n",
    "    elif bmi < 25: \n",
    "        interpretation = \"Normalgewicht\" \n",
    "    elif bmi < 30: \n",
    "        interpretation = \"Übergewicht\" \n",
    "    else: \n",
    "        interpretation = \"Adipositas\"\n",
    "    ausgabe = \"Der berechnete BMI beträgt \" + str(bmiGerundet) + \" --> \" + interpretation\n",
    "    print(ausgabe)\n",
    "    eingabeWeitereBerechnung = input(\"Möchten Sie das Programm beenden? J oder j für Ja! \")\n",
    "    if eingabeWeitereBerechnung.capitalize() == \"J\":\n",
    "        wiederholung = False\n",
    "\n",
    "print(\"Vielen Dank, dass Sie unser Programm verwendet haben. Auf wiedersehen!\")"
   ]
  }
 ],
 "metadata": {
  "kernelspec": {
   "display_name": "Python 3",
   "language": "python",
   "name": "python3"
  },
  "language_info": {
   "codemirror_mode": {
    "name": "ipython",
    "version": 3
   },
   "file_extension": ".py",
   "mimetype": "text/x-python",
   "name": "python",
   "nbconvert_exporter": "python",
   "pygments_lexer": "ipython3",
   "version": "3.9.6"
  },
  "orig_nbformat": 4
 },
 "nbformat": 4,
 "nbformat_minor": 2
}
